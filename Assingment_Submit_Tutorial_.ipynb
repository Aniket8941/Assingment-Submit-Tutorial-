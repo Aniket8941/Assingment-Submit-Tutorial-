{
  "nbformat": 4,
  "nbformat_minor": 0,
  "metadata": {
    "colab": {
      "provenance": []
    },
    "kernelspec": {
      "name": "python3",
      "display_name": "Python 3"
    },
    "language_info": {
      "name": "python"
    }
  },
  "cells": [
    {
      "cell_type": "markdown",
      "source": [
        "1. What IS Your Name\n",
        "   * Aniket Ghosh\n",
        "   * Amit Ghosh\n",
        "\n",
        "2. Wher is my Address\n",
        "   *  96, South Kodalia New Barrackpur\n",
        "   \n"
      ],
      "metadata": {
        "id": "TSCRLmiTF8S7"
      }
    },
    {
      "cell_type": "code",
      "execution_count": 1,
      "metadata": {
        "colab": {
          "base_uri": "https://localhost:8080/",
          "height": 35
        },
        "id": "xjJgLcCXFjUQ",
        "outputId": "c6502255-c34c-4d49-c641-9c5ad717d36f"
      },
      "outputs": [
        {
          "output_type": "execute_result",
          "data": {
            "text/plain": [
              "'\\nThis is the answer \\n'"
            ],
            "application/vnd.google.colaboratory.intrinsic+json": {
              "type": "string"
            }
          },
          "metadata": {},
          "execution_count": 1
        }
      ],
      "source": [
        "# Question\n",
        "\n",
        "'''\n",
        "This is the answer\n",
        "'''\n",
        "\"\"\"\n",
        "This is the answer\n",
        "\"\"\""
      ]
    },
    {
      "cell_type": "code",
      "source": [],
      "metadata": {
        "id": "NMcZCpzGUxMq"
      },
      "execution_count": null,
      "outputs": []
    }
  ]
}